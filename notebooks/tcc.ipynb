{
 "cells": [
  {
   "cell_type": "code",
   "execution_count": 114,
   "metadata": {},
   "outputs": [],
   "source": [
    "import pandas as pd\n",
    "import numpy as np\n",
    "import torch\n",
    "from fastai.tabular import *"
   ]
  },
  {
   "cell_type": "code",
   "execution_count": null,
   "metadata": {},
   "outputs": [],
   "source": [
    "np.random.seed(1)\n",
    "torch.random.manual_seed(1)"
   ]
  },
  {
   "cell_type": "code",
   "execution_count": 115,
   "metadata": {},
   "outputs": [],
   "source": [
    "path = Path('..', 'data', 'raw')\n",
    "credit = pd.read_csv(path / 'credit_data.csv').rename(columns=lambda c: c.lower())"
   ]
  },
  {
   "cell_type": "code",
   "execution_count": 116,
   "metadata": {},
   "outputs": [],
   "source": [
    "dep_var = 'status'\n",
    "cat_names = ['home', 'marital', 'records', 'job']"
   ]
  },
  {
   "cell_type": "code",
   "execution_count": 117,
   "metadata": {},
   "outputs": [],
   "source": [
    "credit[cat_names] = credit[cat_names].astype('category')"
   ]
  },
  {
   "cell_type": "code",
   "execution_count": 119,
   "metadata": {},
   "outputs": [],
   "source": [
    "n = len(credit)\n",
    "valid_idx = np.random.choice(range(n), np.ceil(n * 0.2).astype('int'))"
   ]
  },
  {
   "cell_type": "code",
   "execution_count": 120,
   "metadata": {},
   "outputs": [],
   "source": [
    "procs = [FillMissing, Categorify, Normalize]"
   ]
  },
  {
   "cell_type": "code",
   "execution_count": 121,
   "metadata": {},
   "outputs": [
    {
     "output_type": "stream",
     "name": "stdout",
     "text": "['time', 'seniority', 'debt', 'age', 'amount', 'expenses', 'price', 'income', 'assets']\n"
    }
   ],
   "source": [
    "data = TabularDataBunch.from_df(path, credit, dep_var, valid_idx=valid_idx, procs=procs, cat_names=cat_names)\n",
    "print(data.train_ds.cont_names)"
   ]
  },
  {
   "cell_type": "code",
   "execution_count": 122,
   "metadata": {},
   "outputs": [
    {
     "data": {
      "text/html": "<table border=\"1\" class=\"dataframe\">\n  <thead>\n    <tr style=\"text-align: left;\">\n      <th>epoch</th>\n      <th>train_loss</th>\n      <th>valid_loss</th>\n      <th>accuracy</th>\n      <th>time</th>\n    </tr>\n  </thead>\n  <tbody>\n    <tr>\n      <td>0</td>\n      <td>0.593858</td>\n      <td>0.465332</td>\n      <td>0.792368</td>\n      <td>00:00</td>\n    </tr>\n    <tr>\n      <td>1</td>\n      <td>0.493189</td>\n      <td>0.465681</td>\n      <td>0.792368</td>\n      <td>00:00</td>\n    </tr>\n    <tr>\n      <td>2</td>\n      <td>0.453767</td>\n      <td>0.460289</td>\n      <td>0.789001</td>\n      <td>00:00</td>\n    </tr>\n    <tr>\n      <td>3</td>\n      <td>0.422882</td>\n      <td>0.417993</td>\n      <td>0.813693</td>\n      <td>00:00</td>\n    </tr>\n    <tr>\n      <td>4</td>\n      <td>0.406827</td>\n      <td>0.411693</td>\n      <td>0.814815</td>\n      <td>00:00</td>\n    </tr>\n  </tbody>\n</table>",
      "text/plain": "<IPython.core.display.HTML object>"
     },
     "metadata": {},
     "output_type": "display_data"
    }
   ],
   "source": [
    "learn = tabular_learner(data, layers=[200, 100], metrics=accuracy)\n",
    "learn.fit_one_cycle(5, 1e-2)"
   ]
  },
  {
   "cell_type": "code",
   "execution_count": 151,
   "metadata": {},
   "outputs": [],
   "source": [
    "teste = list(learn.model.embeds.parameters())"
   ]
  },
  {
   "cell_type": "code",
   "execution_count": 152,
   "metadata": {},
   "outputs": [
    {
     "output_type": "execute_result",
     "data": {
      "text/plain": "[Parameter containing:\n tensor([[ 0.1606,  0.1706, -0.1244, -0.0404, -0.1290],\n         [ 0.1305,  0.1560, -0.1256, -0.0704, -0.1263],\n         [ 0.1271,  0.0990, -0.0771, -0.0282, -0.1248],\n         [-0.1257, -0.0594,  0.0457,  0.0534,  0.1699],\n         [-0.1142, -0.0399,  0.0902,  0.0592,  0.1391],\n         [ 0.0785,  0.0967, -0.0780, -0.0572, -0.0938],\n         [ 0.1284, -0.1318, -0.0246, -0.0041, -0.0808]], device='cuda:0',\n        requires_grad=True),\n Parameter containing:\n tensor([[-0.1891,  0.1384,  0.1728,  0.1882],\n         [ 0.1260, -0.2028, -0.0711, -0.0811],\n         [-0.1274,  0.0494,  0.0852,  0.0406],\n         [ 0.3522, -0.1914, -0.3243, -0.2280],\n         [-0.0156, -0.0357,  0.1079,  0.0532],\n         [ 0.1158, -0.0245, -0.1317, -0.1620]], device='cuda:0',\n        requires_grad=True),\n Parameter containing:\n tensor([[ 0.0033, -0.0067, -0.0158],\n         [ 0.1814, -0.1839,  0.2102],\n         [-0.2209,  0.1863, -0.2351]], device='cuda:0', requires_grad=True),\n Parameter containing:\n tensor([[-0.0940,  0.1121,  0.1022,  0.1481],\n         [ 0.1276, -0.0994, -0.1762, -0.1634],\n         [ 0.0394, -0.0504,  0.0483, -0.0729],\n         [ 0.0148, -0.0476,  0.0389, -0.0019],\n         [-0.2016,  0.1901,  0.0894,  0.2972]], device='cuda:0',\n        requires_grad=True),\n Parameter containing:\n tensor([[ 0.0013,  0.0089, -0.0028],\n         [ 0.0466,  0.0892,  0.0090],\n         [-0.0435, -0.2686,  0.1226]], device='cuda:0', requires_grad=True),\n Parameter containing:\n tensor([[-0.0143, -0.0054,  0.0083],\n         [-0.2316, -0.1209, -0.0770],\n         [ 0.2420,  0.1715,  0.1532]], device='cuda:0', requires_grad=True),\n Parameter containing:\n tensor([[ 0.0062, -0.0036,  0.0038],\n         [-0.0695,  0.0252, -0.0320],\n         [ 0.2853, -0.2465,  0.1673]], device='cuda:0', requires_grad=True)]"
     },
     "metadata": {},
     "execution_count": 152
    }
   ],
   "source": [
    "teste"
   ]
  },
  {
   "cell_type": "code",
   "execution_count": 125,
   "metadata": {},
   "outputs": [
    {
     "output_type": "execute_result",
     "data": {
      "text/plain": "tensor([ 0.1606,  0.1706, -0.1244, -0.0404, -0.1290], device='cuda:0',\n       grad_fn=<SelectBackward>)"
     },
     "metadata": {},
     "execution_count": 125
    }
   ],
   "source": [
    "teste[0][0]"
   ]
  },
  {
   "cell_type": "code",
   "execution_count": 126,
   "metadata": {},
   "outputs": [
    {
     "output_type": "execute_result",
     "data": {
      "text/plain": "Index(['ignore', 'other', 'owner', 'parents', 'priv', 'rent'], dtype='object')"
     },
     "metadata": {},
     "execution_count": 126
    }
   ],
   "source": [
    "credit['home'].cat.categories"
   ]
  },
  {
   "cell_type": "code",
   "execution_count": 146,
   "metadata": {},
   "outputs": [
    {
     "output_type": "execute_result",
     "data": {
      "text/plain": "tensor([ 0.1606,  0.1706, -0.1244, -0.0404, -0.1290], device='cuda:0',\n       grad_fn=<SelectBackward>)"
     },
     "metadata": {},
     "execution_count": 146
    }
   ],
   "source": [
    "list(learn.model.embeds.parameters())[0][0]"
   ]
  },
  {
   "cell_type": "code",
   "execution_count": 160,
   "metadata": {},
   "outputs": [
    {
     "output_type": "execute_result",
     "data": {
      "text/plain": "(7, torch.Size([7, 5]))"
     },
     "metadata": {},
     "execution_count": 160
    }
   ],
   "source": [
    "len(credit['home'].cat.codes.unique()), list(learn.model.embeds.parameters())[0].shape"
   ]
  },
  {
   "cell_type": "code",
   "execution_count": 157,
   "metadata": {},
   "outputs": [
    {
     "output_type": "execute_result",
     "data": {
      "text/plain": "tensor([[ 0.1284, -0.1318, -0.0246, -0.0041, -0.0808],\n        [ 0.1284, -0.1318, -0.0246, -0.0041, -0.0808],\n        [-0.1257, -0.0594,  0.0457,  0.0534,  0.1699],\n        ...,\n        [-0.1257, -0.0594,  0.0457,  0.0534,  0.1699],\n        [ 0.1284, -0.1318, -0.0246, -0.0041, -0.0808],\n        [-0.1257, -0.0594,  0.0457,  0.0534,  0.1699]], device='cuda:0',\n       grad_fn=<IndexBackward>)"
     },
     "metadata": {},
     "execution_count": 157
    }
   ],
   "source": [
    "list(learn.model.embeds.parameters())[0][credit['home'].cat.codes + 1]"
   ]
  },
  {
   "cell_type": "code",
   "execution_count": 179,
   "metadata": {},
   "outputs": [],
   "source": [
    "teste = []\n",
    "for idx, var in enumerate(cat_names):\n",
    "    teste.append(list(learn.model.embeds.parameters())[idx][credit[var].cat.codes + 1])"
   ]
  },
  {
   "cell_type": "code",
   "execution_count": 184,
   "metadata": {},
   "outputs": [
    {
     "output_type": "error",
     "ename": "TypeError",
     "evalue": "can't convert cuda:0 device type tensor to numpy. Use Tensor.cpu() to copy the tensor to host memory first.",
     "traceback": [
      "\u001b[0;31m---------------------------------------------------------------------------\u001b[0m",
      "\u001b[0;31mTypeError\u001b[0m                                 Traceback (most recent call last)",
      "\u001b[0;32m<ipython-input-184-903bf200ef08>\u001b[0m in \u001b[0;36m<module>\u001b[0;34m\u001b[0m\n\u001b[0;32m----> 1\u001b[0;31m \u001b[0mnp\u001b[0m\u001b[0;34m.\u001b[0m\u001b[0mconcatenate\u001b[0m\u001b[0;34m(\u001b[0m\u001b[0mteste\u001b[0m\u001b[0;34m)\u001b[0m\u001b[0;34m\u001b[0m\u001b[0;34m\u001b[0m\u001b[0m\n\u001b[0m",
      "\u001b[0;32m<__array_function__ internals>\u001b[0m in \u001b[0;36mconcatenate\u001b[0;34m(*args, **kwargs)\u001b[0m\n",
      "\u001b[0;32m~/miniconda3/envs/tcc/lib/python3.8/site-packages/torch/tensor.py\u001b[0m in \u001b[0;36m__array__\u001b[0;34m(self, dtype)\u001b[0m\n\u001b[1;32m    490\u001b[0m     \u001b[0;32mdef\u001b[0m \u001b[0m__array__\u001b[0m\u001b[0;34m(\u001b[0m\u001b[0mself\u001b[0m\u001b[0;34m,\u001b[0m \u001b[0mdtype\u001b[0m\u001b[0;34m=\u001b[0m\u001b[0;32mNone\u001b[0m\u001b[0;34m)\u001b[0m\u001b[0;34m:\u001b[0m\u001b[0;34m\u001b[0m\u001b[0;34m\u001b[0m\u001b[0m\n\u001b[1;32m    491\u001b[0m         \u001b[0;32mif\u001b[0m \u001b[0mdtype\u001b[0m \u001b[0;32mis\u001b[0m \u001b[0;32mNone\u001b[0m\u001b[0;34m:\u001b[0m\u001b[0;34m\u001b[0m\u001b[0;34m\u001b[0m\u001b[0m\n\u001b[0;32m--> 492\u001b[0;31m             \u001b[0;32mreturn\u001b[0m \u001b[0mself\u001b[0m\u001b[0;34m.\u001b[0m\u001b[0mnumpy\u001b[0m\u001b[0;34m(\u001b[0m\u001b[0;34m)\u001b[0m\u001b[0;34m\u001b[0m\u001b[0;34m\u001b[0m\u001b[0m\n\u001b[0m\u001b[1;32m    493\u001b[0m         \u001b[0;32melse\u001b[0m\u001b[0;34m:\u001b[0m\u001b[0;34m\u001b[0m\u001b[0;34m\u001b[0m\u001b[0m\n\u001b[1;32m    494\u001b[0m             \u001b[0;32mreturn\u001b[0m \u001b[0mself\u001b[0m\u001b[0;34m.\u001b[0m\u001b[0mnumpy\u001b[0m\u001b[0;34m(\u001b[0m\u001b[0;34m)\u001b[0m\u001b[0;34m.\u001b[0m\u001b[0mastype\u001b[0m\u001b[0;34m(\u001b[0m\u001b[0mdtype\u001b[0m\u001b[0;34m,\u001b[0m \u001b[0mcopy\u001b[0m\u001b[0;34m=\u001b[0m\u001b[0;32mFalse\u001b[0m\u001b[0;34m)\u001b[0m\u001b[0;34m\u001b[0m\u001b[0;34m\u001b[0m\u001b[0m\n",
      "\u001b[0;31mTypeError\u001b[0m: can't convert cuda:0 device type tensor to numpy. Use Tensor.cpu() to copy the tensor to host memory first."
     ]
    }
   ],
   "source": []
  },
  {
   "cell_type": "code",
   "execution_count": 185,
   "metadata": {},
   "outputs": [
    {
     "output_type": "execute_result",
     "data": {
      "text/plain": "(4454, 16)"
     },
     "metadata": {},
     "execution_count": 185
    }
   ],
   "source": [
    "np.concatenate([torch.Tensor.cpu(i).detach().numpy() for i in teste], axis=1).shape"
   ]
  },
  {
   "cell_type": "code",
   "execution_count": null,
   "metadata": {},
   "outputs": [],
   "source": []
  }
 ],
 "metadata": {
  "language_info": {
   "codemirror_mode": {
    "name": "ipython",
    "version": 3
   },
   "file_extension": ".py",
   "mimetype": "text/x-python",
   "name": "python",
   "nbconvert_exporter": "python",
   "pygments_lexer": "ipython3",
   "version": "3.8.3-final"
  },
  "orig_nbformat": 2,
  "kernelspec": {
   "name": "python38364bittccconda9cbe7146dfc24b9484b2f8419dc5035c",
   "display_name": "Python 3.8.3 64-bit ('tcc': conda)"
  }
 },
 "nbformat": 4,
 "nbformat_minor": 2
}